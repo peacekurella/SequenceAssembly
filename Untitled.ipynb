{
 "cells": [
  {
   "cell_type": "code",
   "execution_count": 1,
   "metadata": {},
   "outputs": [],
   "source": [
    "import os\n",
    "import argparse\n",
    "from Bio import SeqIO"
   ]
  },
  {
   "cell_type": "code",
   "execution_count": 2,
   "metadata": {},
   "outputs": [],
   "source": [
    "def read_sequences(directory):\n",
    "    \"\"\"\n",
    "    Reads in the sequences from the fastq files\n",
    "    :param directory:\n",
    "    :return:\n",
    "    \"\"\"\n",
    "    files = os.listdir(directory)\n",
    "    sequences = []\n",
    "\n",
    "    for file in files:\n",
    "        sequence = \"\"\n",
    "        filename = os.path.join(directory, file)\n",
    "        for record in SeqIO.parse(filename, \"fastq\"):\n",
    "            sequence = sequence + ''.join(list(record.seq))\n",
    "        sequences.append(sequence)\n",
    "    return sequences"
   ]
  },
  {
   "cell_type": "code",
   "execution_count": 3,
   "metadata": {},
   "outputs": [],
   "source": [
    "def split_into_kmers(sequence, k, threshold):\n",
    "    kmers = {}\n",
    "\n",
    "    for i in range(0, len(sequence), k):\n",
    "        kmer = sequence[i: i + k + 1]\n",
    "        if len(kmer) > k:\n",
    "            if kmer in kmers.keys():\n",
    "                kmers[kmer] = kmers[kmer] + 1\n",
    "            else:\n",
    "                kmers[kmer] = 1\n",
    "\n",
    "    for key, count in kmers:\n",
    "        if count <= threshold:\n",
    "            kmers.pop(key)\n",
    "\n",
    "    return kmers"
   ]
  },
  {
   "cell_type": "code",
   "execution_count": 4,
   "metadata": {},
   "outputs": [],
   "source": [
    "def generate_de_bruijin_graph(kmers):\n",
    "    # Set of all nodes in the DB Graph\n",
    "    nodes = set()\n",
    "    # Set of nodes having in-degrees\n",
    "    not_starts = set()\n",
    "    # List of all directed edges in the graph\n",
    "    edges = []\n",
    "\n",
    "    for kmer in kmers:\n",
    "        # From k-mers, get k-1mers\n",
    "        k1mer1 = kmer[:-1]\n",
    "        k1mer2 = kmer[1:]\n",
    "        # Add k-1 mers to the nodes list\n",
    "        nodes.add(k1mer1)\n",
    "        nodes.add(k1mer2)\n",
    "\n",
    "        # Add an edge between the two k-1mers\n",
    "        edges.append((k1mer1, k1mer2))\n",
    "\n",
    "        # Add destination node to the set of nodes having in degrees\n",
    "        not_starts.add(k1mer2)\n",
    "\n",
    "    start_nodes = list(nodes - not_starts)\n",
    "\n",
    "    # Return the nodes, edges and the starting nodes in the graph.\n",
    "    return nodes, edges, start_nodes"
   ]
  },
  {
   "cell_type": "code",
   "execution_count": 67,
   "metadata": {},
   "outputs": [],
   "source": [
    "def make_node_edge_map(edges):\n",
    "\n",
    "    # Make a map of starting nodes to the adjacency list of that node\n",
    "    node_edge_map = {}\n",
    "\n",
    "    # Go through all edges\n",
    "    for e in edges:\n",
    "        n = e[0]\n",
    "        # If start node exists, add destination node to adjacency list\n",
    "        if n in node_edge_map:\n",
    "            node_edge_map[n].add(e[1])\n",
    "        # Add start node to map and initialize the adjacency list with the destination node\n",
    "        else:\n",
    "            adjacency_set = set() # using a set instead of a list to support faster deletes in the path traversal\n",
    "            adjacency_set.add(e[1])\n",
    "            node_edge_map[n] = adjacency_set\n",
    "    return node_edge_map"
   ]
  },
  {
   "cell_type": "code",
   "execution_count": 182,
   "metadata": {},
   "outputs": [],
   "source": [
    "def traverse_graph(graph, start):\n",
    "    # if there is no explicit start node\n",
    "    if len(start) == 0:\n",
    "        # pick any node as the start\n",
    "        start = list(graph.keys())[0]\n",
    "    else:\n",
    "        start = start[0]\n",
    "    \n",
    "    # maintain a stack to store the nodes to visit\n",
    "    path = [start]\n",
    "    \n",
    "    # accumulates the eulerian path\n",
    "    eulerian_path = []\n",
    "    \n",
    "    # while stack is non-empty\n",
    "    while path:\n",
    "        # pick up the topmost node in the stack\n",
    "        curr_node = str(path[-1])\n",
    "        \n",
    "        # if the current node is a key and has entries in its ajacency list\n",
    "        if curr_node in graph and graph[curr_node]:\n",
    "            \n",
    "            # get the adjacency list\n",
    "            adj_nodes = graph[curr_node]\n",
    "            next_node = None\n",
    "            \n",
    "            # if only one entry, proceed to that node\n",
    "            if len(adj_nodes) == 1:\n",
    "                next_node = adj_nodes.pop()\n",
    "            \n",
    "            # if not, proceed to next node that would allow us to traverse\n",
    "            # the rest of the graph\n",
    "            else:\n",
    "                # iterate through all adj_nodes\n",
    "                for node in adj_nodes:\n",
    "                    # if the node leads to other nodes, set that as next\n",
    "                    if node in graph.keys():\n",
    "                        next_node = node\n",
    "                        break\n",
    "                # clear the edge from the current node\n",
    "                graph[curr_node].remove(next_node)\n",
    "            # update the path we want to explore\n",
    "            path.append(next_node)\n",
    "        else:\n",
    "            # if we can go any further, append the node to the path\n",
    "            eulerian_path.append(path.pop())\n",
    "    # reverse the accumulator as the path was populated in reverse\n",
    "    eulerian_path.reverse()\n",
    "    \n",
    "    return eulerian_path"
   ]
  },
  {
   "cell_type": "code",
   "execution_count": 161,
   "metadata": {},
   "outputs": [],
   "source": [
    "def align_to_reference(assembled_seq, args):\n",
    "    return []"
   ]
  },
  {
   "cell_type": "code",
   "execution_count": null,
   "metadata": {},
   "outputs": [],
   "source": [
    "if __name__ == \"__main__\":\n",
    "    # add the command line arguments\n",
    "    parser = argparse.ArgumentParser()\n",
    "    parser.add_argument(\"--k\", default=30, help=\"k-mer size\")\n",
    "    parser.add_argument(\"--threshold\", default=2, help=\"min count of k-mers to consider\")\n",
    "    parser.add_argument(\"--input\", default=\"sars-cov-2-trimmed/SE-SW-4-15\", help=\"input directory\")\n",
    "    parser.add_argument(\"--reference\", default=None, help=\"reference genome\")\n",
    "\n",
    "    args = parser.parse_args()\n",
    "\n",
    "    # each file is a seperate sequence\n",
    "    sequences = read_sequences(args.input)\n",
    "\n",
    "    for sequence in sequences:\n",
    "        kmers = split_into_kmers(sequence, args.k, args.threshold)\n",
    "        k1mers = split_into_kmers(sequence, args.k - 1, 0)"
   ]
  },
  {
   "cell_type": "code",
   "execution_count": null,
   "metadata": {},
   "outputs": [],
   "source": [
    "k = 30\n",
    "threshold = 2\n",
    "input_dir = \"./sars-cov-2-trimmed/SE-SW-4-15\""
   ]
  },
  {
   "cell_type": "code",
   "execution_count": null,
   "metadata": {},
   "outputs": [],
   "source": [
    "sequences = read_sequences(input_dir)"
   ]
  },
  {
   "cell_type": "code",
   "execution_count": 183,
   "metadata": {},
   "outputs": [],
   "source": [
    "kmers = [\"ATG\", \"GGT\", \"GTG\", \"TAT\", \"TGC\", \"TGG\"]"
   ]
  },
  {
   "cell_type": "code",
   "execution_count": 190,
   "metadata": {},
   "outputs": [],
   "source": [
    "kmers = [\"ATG\", \"TGG\", \"GGC\", \"GCG\", \"CGT\", \"GCA\", \"GTG\", \"CAA\", \"AAT\", \"TGC\"]"
   ]
  },
  {
   "cell_type": "code",
   "execution_count": 191,
   "metadata": {},
   "outputs": [],
   "source": [
    "nodes, edges, start = generate_de_bruijin_graph(kmers)"
   ]
  },
  {
   "cell_type": "code",
   "execution_count": 192,
   "metadata": {},
   "outputs": [],
   "source": [
    "graph = make_node_edge_map(edges)"
   ]
  },
  {
   "cell_type": "code",
   "execution_count": 193,
   "metadata": {},
   "outputs": [],
   "source": [
    "path = traverse_graph(graph, start)"
   ]
  }
 ],
 "metadata": {
  "kernelspec": {
   "display_name": "Python 3",
   "language": "python",
   "name": "python3"
  },
  "language_info": {
   "codemirror_mode": {
    "name": "ipython",
    "version": 3
   },
   "file_extension": ".py",
   "mimetype": "text/x-python",
   "name": "python",
   "nbconvert_exporter": "python",
   "pygments_lexer": "ipython3",
   "version": "3.6.8"
  }
 },
 "nbformat": 4,
 "nbformat_minor": 4
}
